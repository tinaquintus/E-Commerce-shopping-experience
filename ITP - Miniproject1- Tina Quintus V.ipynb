{
 "cells": [
  {
   "cell_type": "markdown",
   "metadata": {},
   "source": [
    "<table align=\"center\" width=100%>\n",
    "    <tr>\n",
    "          <div align=\"center\">\n",
    "              <font color=\"#21618C\" size=8px>\n",
    "                    <b> ITP - MiniProject1  <br>\n",
    "                    </b>\n",
    "                </font>\n",
    "            </div>\n",
    "        </td>\n",
    "    </tr>\n",
    "</table>"
   ]
  },
  {
   "cell_type": "markdown",
   "metadata": {},
   "source": [
    "Q1. Create a Dictionary of lists to store the information of shipments given in the table"
   ]
  },
  {
   "cell_type": "code",
   "execution_count": 21,
   "metadata": {},
   "outputs": [
    {
     "name": "stdout",
     "output_type": "stream",
     "text": [
      "Courier Management System :\n"
     ]
    },
    {
     "data": {
      "text/plain": [
       "{101: [['Sender', 1],\n",
       "  ['Receiver', 3],\n",
       "  ['Start_date', '14-03-2020'],\n",
       "  ['Delivery_date', '25-03-2020'],\n",
       "  ['Sender_location', 'Area1'],\n",
       "  ['Receiver_location', 'Area6'],\n",
       "  ['Delivery_status', 'Delivered'],\n",
       "  ['Shipping_cost', 198]],\n",
       " 102: [['Sender', 4],\n",
       "  ['Receiver', 1],\n",
       "  ['Start_date', '18-06-2020'],\n",
       "  ['Delivery_date', '09-07-2020'],\n",
       "  ['Sender_location', 'Area2'],\n",
       "  ['Receiver_location', 'Area4'],\n",
       "  ['Delivery_status', 'Delivered'],\n",
       "  ['Shipping_cost', 275]],\n",
       " 103: [['Sender', 2],\n",
       "  ['Receiver', 3],\n",
       "  ['Start_date', '01-12-2020'],\n",
       "  ['Delivery_date', 'Null'],\n",
       "  ['Sender_location', 'Area5'],\n",
       "  ['Receiver_location', 'Area1'],\n",
       "  ['Delivery_status', 'In-Transit'],\n",
       "  ['Shipping_cost', 200]],\n",
       " 104: [['Sender', 1],\n",
       "  ['Receiver', 5],\n",
       "  ['Start_date', '23-06-2020'],\n",
       "  ['Delivery_date', '25-06-2020'],\n",
       "  ['Sender_location', 'Area1'],\n",
       "  ['Receiver_location', 'Area4'],\n",
       "  ['Delivery_status', 'Delivered'],\n",
       "  ['Shipping_cost', 314]],\n",
       " 105: [['Sender', 3],\n",
       "  ['Receiver', 4],\n",
       "  ['Start_date', '29-08-2020'],\n",
       "  ['Delivery_date', '10-09-2020'],\n",
       "  ['Sender_location', 'Area5'],\n",
       "  ['Receiver_location', 'Area3'],\n",
       "  ['Delivery_status', 'Delivered'],\n",
       "  ['Shipping_cost', 275]],\n",
       " 106: [['Sender', 5],\n",
       "  ['Receiver', 2],\n",
       "  ['Start_date', '28-06-2020'],\n",
       "  ['Delivery_date', 'Null'],\n",
       "  ['Sender_location', 'Area3'],\n",
       "  ['Receiver_location', 'Area1'],\n",
       "  ['Delivery_status', 'In-Transit'],\n",
       "  ['Shipping_cost', 270]]}"
      ]
     },
     "execution_count": 21,
     "metadata": {},
     "output_type": "execute_result"
    }
   ],
   "source": [
    "shipments={101:[['Sender',1],['Receiver',3],['Start_date','14-03-2020'],['Delivery_date','25-03-2020'],['Sender_location','Area1'],['Receiver_location','Area6'],['Delivery_status','Delivered'],['Shipping_cost',198]],\n",
    "           102:[['Sender',4],['Receiver',1],['Start_date','18-06-2020'],['Delivery_date','09-07-2020'],['Sender_location','Area2'],['Receiver_location','Area4'],['Delivery_status','Delivered'],['Shipping_cost',275]],\n",
    "           103:[['Sender',2],['Receiver',3],['Start_date','01-12-2020'],['Delivery_date','Null'],['Sender_location','Area5'],['Receiver_location','Area1'],['Delivery_status','In-Transit'],['Shipping_cost',200]],\n",
    "           104:[['Sender',1],['Receiver',5],['Start_date','23-06-2020'],['Delivery_date','25-06-2020'],['Sender_location','Area1'],['Receiver_location','Area4'],['Delivery_status','Delivered'],['Shipping_cost',314]],\n",
    "           105:[['Sender',3],['Receiver',4],['Start_date','29-08-2020'],['Delivery_date','10-09-2020'],['Sender_location','Area5'],['Receiver_location','Area3'],['Delivery_status','Delivered'],['Shipping_cost',275]],\n",
    "           106:[['Sender',5],['Receiver',2],['Start_date','28-06-2020'],['Delivery_date','Null'],['Sender_location','Area3'],['Receiver_location','Area1'],['Delivery_status','In-Transit'],['Shipping_cost',270]]}\n",
    "print('Courier Management System :')\n",
    "shipments"
   ]
  },
  {
   "cell_type": "markdown",
   "metadata": {},
   "source": [
    "Q2. Create a Dictionary of to store the information of clients given in the table."
   ]
  },
  {
   "cell_type": "code",
   "execution_count": 22,
   "metadata": {
    "scrolled": true
   },
   "outputs": [
    {
     "name": "stdout",
     "output_type": "stream",
     "text": [
      "Client Information :\n",
      "{1: 'Philip', 2: 'Omega III', 3: 'Ramya', 4: 'Romesh', 5: 'John'}\n"
     ]
    }
   ],
   "source": [
    "clients={1:'Philip',2:'Omega III',3:'Ramya',4:'Romesh',5:'John'}\n",
    "print('Client Information :')\n",
    "print(clients)"
   ]
  },
  {
   "cell_type": "markdown",
   "metadata": {},
   "source": [
    "Q3. Write a code to replace client’s id with their respective name in shipment dictionary using a loop and dictionary comprehension"
   ]
  },
  {
   "cell_type": "code",
   "execution_count": 23,
   "metadata": {},
   "outputs": [
    {
     "data": {
      "text/plain": [
       "{101: [['Sender', 'Philip'],\n",
       "  ['Receiver', 'Ramya'],\n",
       "  ['Start_date', '14-03-2020'],\n",
       "  ['Delivery_date', '25-03-2020'],\n",
       "  ['Sender_location', 'Area1'],\n",
       "  ['Receiver_location', 'Area6'],\n",
       "  ['Delivery_status', 'Delivered'],\n",
       "  ['Shipping_cost', 198]],\n",
       " 102: [['Sender', 'Romesh'],\n",
       "  ['Receiver', 'Philip'],\n",
       "  ['Start_date', '18-06-2020'],\n",
       "  ['Delivery_date', '09-07-2020'],\n",
       "  ['Sender_location', 'Area2'],\n",
       "  ['Receiver_location', 'Area4'],\n",
       "  ['Delivery_status', 'Delivered'],\n",
       "  ['Shipping_cost', 275]],\n",
       " 103: [['Sender', 'Omega III'],\n",
       "  ['Receiver', 'Ramya'],\n",
       "  ['Start_date', '01-12-2020'],\n",
       "  ['Delivery_date', 'Null'],\n",
       "  ['Sender_location', 'Area5'],\n",
       "  ['Receiver_location', 'Area1'],\n",
       "  ['Delivery_status', 'In-Transit'],\n",
       "  ['Shipping_cost', 200]],\n",
       " 104: [['Sender', 'Philip'],\n",
       "  ['Receiver', 'John'],\n",
       "  ['Start_date', '23-06-2020'],\n",
       "  ['Delivery_date', '25-06-2020'],\n",
       "  ['Sender_location', 'Area1'],\n",
       "  ['Receiver_location', 'Area4'],\n",
       "  ['Delivery_status', 'Delivered'],\n",
       "  ['Shipping_cost', 314]],\n",
       " 105: [['Sender', 'Ramya'],\n",
       "  ['Receiver', 'Romesh'],\n",
       "  ['Start_date', '29-08-2020'],\n",
       "  ['Delivery_date', '10-09-2020'],\n",
       "  ['Sender_location', 'Area5'],\n",
       "  ['Receiver_location', 'Area3'],\n",
       "  ['Delivery_status', 'Delivered'],\n",
       "  ['Shipping_cost', 275]],\n",
       " 106: [['Sender', 'John'],\n",
       "  ['Receiver', 'Omega III'],\n",
       "  ['Start_date', '28-06-2020'],\n",
       "  ['Delivery_date', 'Null'],\n",
       "  ['Sender_location', 'Area3'],\n",
       "  ['Receiver_location', 'Area1'],\n",
       "  ['Delivery_status', 'In-Transit'],\n",
       "  ['Shipping_cost', 270]]}"
      ]
     },
     "execution_count": 23,
     "metadata": {},
     "output_type": "execute_result"
    }
   ],
   "source": [
    "shipments={101:[['Sender',1],['Receiver',3],['Start_date','14-03-2020'],['Delivery_date','25-03-2020'],['Sender_location','Area1'],['Receiver_location','Area6'],['Delivery_status','Delivered'],['Shipping_cost',198]],\n",
    "           102:[['Sender',4],['Receiver',1],['Start_date','18-06-2020'],['Delivery_date','09-07-2020'],['Sender_location','Area2'],['Receiver_location','Area4'],['Delivery_status','Delivered'],['Shipping_cost',275]],\n",
    "           103:[['Sender',2],['Receiver',3],['Start_date','01-12-2020'],['Delivery_date','Null'],['Sender_location','Area5'],['Receiver_location','Area1'],['Delivery_status','In-Transit'],['Shipping_cost',200]],\n",
    "           104:[['Sender',1],['Receiver',5],['Start_date','23-06-2020'],['Delivery_date','25-06-2020'],['Sender_location','Area1'],['Receiver_location','Area4'],['Delivery_status','Delivered'],['Shipping_cost',314]],\n",
    "           105:[['Sender',3],['Receiver',4],['Start_date','29-08-2020'],['Delivery_date','10-09-2020'],['Sender_location','Area5'],['Receiver_location','Area3'],['Delivery_status','Delivered'],['Shipping_cost',275]],\n",
    "           106:[['Sender',5],['Receiver',2],['Start_date','28-06-2020'],['Delivery_date','Null'],['Sender_location','Area3'],['Receiver_location','Area1'],['Delivery_status','In-Transit'],['Shipping_cost',270]]}\n",
    "clients={1:'Philip',2:'Omega III',3:'Ramya',4:'Romesh',5:'John'}\n",
    "for value in shipments.values():\n",
    "    for key1,value1 in clients.items():\n",
    "          for values in value:\n",
    "                for data in range(len(values)):\n",
    "                     if values[data]==key1:\n",
    "                            values[data]=value1\n",
    "clients                    \n",
    "shipments"
   ]
  },
  {
   "cell_type": "markdown",
   "metadata": {},
   "source": [
    "Q4. Print all shipment details that are sent by Phillip"
   ]
  },
  {
   "cell_type": "code",
   "execution_count": 24,
   "metadata": {},
   "outputs": [
    {
     "data": {
      "text/plain": [
       "{101: [['Sender', 'Philip'],\n",
       "  ['Receiver', 'Ramya'],\n",
       "  ['Start_date', '14-03-2020'],\n",
       "  ['Delivery_date', '25-03-2020'],\n",
       "  ['Sender_location', 'Area1'],\n",
       "  ['Receiver_location', 'Area6'],\n",
       "  ['Delivery_status', 'Delivered'],\n",
       "  ['Shipping_cost', 198]],\n",
       " 104: [['Sender', 'Philip'],\n",
       "  ['Receiver', 'John'],\n",
       "  ['Start_date', '23-06-2020'],\n",
       "  ['Delivery_date', '25-06-2020'],\n",
       "  ['Sender_location', 'Area1'],\n",
       "  ['Receiver_location', 'Area4'],\n",
       "  ['Delivery_status', 'Delivered'],\n",
       "  ['Shipping_cost', 314]]}"
      ]
     },
     "execution_count": 24,
     "metadata": {},
     "output_type": "execute_result"
    }
   ],
   "source": [
    "shipment_Philip={}\n",
    "for key in shipments.keys():\n",
    "    for inner in shipments[key]:\n",
    "        for data in range(len(values)):\n",
    "             if (inner[0] =='Sender' and inner[1] =='Philip'):\n",
    "                    shipment_Philip[key] = shipments[key]\n",
    "shipment_Philip"
   ]
  },
  {
   "cell_type": "markdown",
   "metadata": {},
   "source": [
    "Q5. Print all shipment details that are received by Ramya\n",
    "\n"
   ]
  },
  {
   "cell_type": "code",
   "execution_count": 25,
   "metadata": {},
   "outputs": [
    {
     "data": {
      "text/plain": [
       "{101: [['Sender', 'Philip'],\n",
       "  ['Receiver', 'Ramya'],\n",
       "  ['Start_date', '14-03-2020'],\n",
       "  ['Delivery_date', '25-03-2020'],\n",
       "  ['Sender_location', 'Area1'],\n",
       "  ['Receiver_location', 'Area6'],\n",
       "  ['Delivery_status', 'Delivered'],\n",
       "  ['Shipping_cost', 198]],\n",
       " 103: [['Sender', 'Omega III'],\n",
       "  ['Receiver', 'Ramya'],\n",
       "  ['Start_date', '01-12-2020'],\n",
       "  ['Delivery_date', 'Null'],\n",
       "  ['Sender_location', 'Area5'],\n",
       "  ['Receiver_location', 'Area1'],\n",
       "  ['Delivery_status', 'In-Transit'],\n",
       "  ['Shipping_cost', 200]]}"
      ]
     },
     "execution_count": 25,
     "metadata": {},
     "output_type": "execute_result"
    }
   ],
   "source": [
    "shipment_Ramya={}\n",
    "for key in shipments.keys():\n",
    "    for inner in shipments[key]:\n",
    "        for data in range(len(values)):\n",
    "             if (inner[0] =='Receiver' and inner[1] =='Ramya'):\n",
    "                    shipment_Ramya[key] = shipments[key]\n",
    "shipment_Ramya"
   ]
  },
  {
   "cell_type": "markdown",
   "metadata": {},
   "source": [
    "Q6. Print all shipments which are in 'In-Transit' status\n",
    "\n"
   ]
  },
  {
   "cell_type": "code",
   "execution_count": 26,
   "metadata": {},
   "outputs": [
    {
     "data": {
      "text/plain": [
       "{103: [['Sender', 'Omega III'],\n",
       "  ['Receiver', 'Ramya'],\n",
       "  ['Start_date', '01-12-2020'],\n",
       "  ['Delivery_date', 'Null'],\n",
       "  ['Sender_location', 'Area5'],\n",
       "  ['Receiver_location', 'Area1'],\n",
       "  ['Delivery_status', 'In-Transit'],\n",
       "  ['Shipping_cost', 200]],\n",
       " 106: [['Sender', 'John'],\n",
       "  ['Receiver', 'Omega III'],\n",
       "  ['Start_date', '28-06-2020'],\n",
       "  ['Delivery_date', 'Null'],\n",
       "  ['Sender_location', 'Area3'],\n",
       "  ['Receiver_location', 'Area1'],\n",
       "  ['Delivery_status', 'In-Transit'],\n",
       "  ['Shipping_cost', 270]]}"
      ]
     },
     "execution_count": 26,
     "metadata": {},
     "output_type": "execute_result"
    }
   ],
   "source": [
    "shipment_InTransit={}\n",
    "for key in shipments.keys():\n",
    "    for inner in shipments[key]:\n",
    "        for data in range(len(values)):\n",
    "             if (inner[0] =='Delivery_status' and inner[1] =='In-Transit'):\n",
    "                    shipment_InTransit[key] = shipments[key]\n",
    "shipment_InTransit"
   ]
  },
  {
   "cell_type": "markdown",
   "metadata": {},
   "source": [
    "Q7. Print all shipments which are delivered within 7 days of courier Start date"
   ]
  },
  {
   "cell_type": "code",
   "execution_count": 29,
   "metadata": {},
   "outputs": [
    {
     "name": "stdout",
     "output_type": "stream",
     "text": [
      "Shipments delivered within 7 days :\n",
      "{104: [['Sender', 'Philip'], ['Receiver', 'John'], ['Start_date', '23-06-2020'], ['Delivery_date', '25-06-2020'], ['Sender_location', 'Area1'], ['Receiver_location', 'Area4'], ['Delivery_status', 'Delivered'], ['Shipping_cost', 314]]}\n"
     ]
    }
   ],
   "source": [
    "shipment_within7={}\n",
    "import datetime\n",
    "for key,value in shipments.items():\n",
    "    for inner in value:\n",
    "        if(inner[0] =='Start_date'):\n",
    "                start=datetime.datetime.strptime(inner[1],'%d-%m-%Y')\n",
    "        if(inner[0] =='Delivery_date' and inner[1]!='Null'):\n",
    "                delivery=datetime.datetime.strptime(inner[1],'%d-%m-%Y')\n",
    "                if (delivery-start).days<=7:\n",
    "                    shipment_within7[key]=shipments[key]\n",
    "print('Shipments delivered within 7 days :')\n",
    "print(shipment_within7)"
   ]
  },
  {
   "cell_type": "markdown",
   "metadata": {},
   "source": [
    "Q8. Print all shipments which are delivered after 15 days of courier start date or not yet been delivered.\n",
    "\n"
   ]
  },
  {
   "cell_type": "code",
   "execution_count": 33,
   "metadata": {},
   "outputs": [
    {
     "name": "stdout",
     "output_type": "stream",
     "text": [
      "Shipments which are delivered after 15 days of courier start date or not yet been delivered :\n",
      "{102: [['Sender', 'Romesh'], ['Receiver', 'Philip'], ['Start_date', '18-06-2020'], ['Delivery_date', '09-07-2020'], ['Sender_location', 'Area2'], ['Receiver_location', 'Area4'], ['Delivery_status', 'Delivered'], ['Shipping_cost', 275]], 103: [['Sender', 'Omega III'], ['Receiver', 'Ramya'], ['Start_date', '01-12-2020'], ['Delivery_date', 'Null'], ['Sender_location', 'Area5'], ['Receiver_location', 'Area1'], ['Delivery_status', 'In-Transit'], ['Shipping_cost', 200]], 106: [['Sender', 'John'], ['Receiver', 'Omega III'], ['Start_date', '28-06-2020'], ['Delivery_date', 'Null'], ['Sender_location', 'Area3'], ['Receiver_location', 'Area1'], ['Delivery_status', 'In-Transit'], ['Shipping_cost', 270]]}\n"
     ]
    }
   ],
   "source": [
    "delivered_after15days={}\n",
    "import datetime\n",
    "for key,value in shipments.items():\n",
    "    for inner in value:\n",
    "        if(inner[0]=='Delivery_status' and inner[1]=='In-Transit'):\n",
    "            delivered_after15days[key]=shipments[key]\n",
    "        if(inner[0]=='Start_date'):\n",
    "            start=datetime.datetime.strptime(inner[1],'%d-%m-%Y')\n",
    "        if(inner[0]=='Delivery_date' and inner[1]!='Null'):\n",
    "            delivery_date=datetime.datetime.strptime(inner[1],'%d-%m-%Y')\n",
    "            if(delivery_date-start).days>15:\n",
    "                delivered_after15days[key]=shipments[key]\n",
    "print('Shipments which are delivered after 15 days of courier start date or not yet been delivered :')\n",
    "print(delivered_after15days)"
   ]
  },
  {
   "cell_type": "markdown",
   "metadata": {},
   "source": [
    "Q 9. Write a function find_all_routes to display all possible routes from senders location to receivers location given in the dictionary for each shipment.\n",
    "\n"
   ]
  },
  {
   "cell_type": "code",
   "execution_count": 35,
   "metadata": {},
   "outputs": [
    {
     "name": "stdout",
     "output_type": "stream",
     "text": [
      "All possible routes from senders location to receivers location:\n",
      "0 1 0 0 0 1 \n",
      "1 0 1 1 0 0 \n",
      "0 1 0 1 0 0 \n",
      "0 1 1 0 1 0 \n",
      "0 0 0 1 0 0 \n",
      "1 0 0 0 0 0 \n"
     ]
    }
   ],
   "source": [
    "data=[(1,2),(2,1),(2,3),(3,2),(3,4),(4,3),(4,5),(5,4),(1,6),(6,1),(2,4),(4,2)]\n",
    "print('All possible routes from senders location to receivers location:')\n",
    "for row in range(1,7):\n",
    "    for column in range(1,7):\n",
    "        if(row,column) in data:\n",
    "            print('1',end=' ')\n",
    "        else:\n",
    "            print('0',end=' ')\n",
    "    print()        "
   ]
  },
  {
   "cell_type": "markdown",
   "metadata": {},
   "source": [
    "Graph"
   ]
  },
  {
   "cell_type": "code",
   "execution_count": 37,
   "metadata": {},
   "outputs": [
    {
     "data": {
      "text/plain": [
       "[[1, 2, 3, 4, 5], [1, 2, 4, 5]]"
      ]
     },
     "execution_count": 37,
     "metadata": {},
     "output_type": "execute_result"
    }
   ],
   "source": [
    "graph={1:[2],2:[1,3,4],3:[2,4],4:[2,3,5],5:[4]}\n",
    "def find_routes(graph,Sender,Receiver,route=[]):\n",
    "    route=route+[Sender]\n",
    "    if Sender==Receiver:\n",
    "        return[route]\n",
    "    routes=[]\n",
    "    for i in graph[Sender]:\n",
    "        if i not in route:\n",
    "            newroutes=find_routes(graph,i,Receiver,route)\n",
    "            for newroute in newroutes:\n",
    "                routes.append(newroute)\n",
    "    return routes\n",
    "find_routes(graph,1,5)"
   ]
  },
  {
   "cell_type": "code",
   "execution_count": 44,
   "metadata": {},
   "outputs": [
    {
     "name": "stdout",
     "output_type": "stream",
     "text": [
      "All the possible routes from 1 and 3 :\n",
      " [[1, 2, 3], [1, 2, 4, 3]]\n",
      "All the possible routes from 4 and 1 :\n",
      " [[4, 2, 1], [4, 3, 2, 1]]\n",
      "All the possible routes from 2 and 3 :\n",
      " [[2, 3], [2, 4, 3]]\n",
      "All the possible routes from 1 and 5 :\n",
      " [[1, 2, 3, 4, 5], [1, 2, 4, 5]]\n",
      "All the possible routes from 3 and 4 :\n",
      " [[3, 2, 4], [3, 4]]\n",
      "All the possible routes from 5 and 2 :\n",
      " [[5, 4, 2], [5, 4, 3, 2]]\n"
     ]
    }
   ],
   "source": [
    "graph={1:[2,6], 2:[1,3,4], 3:[2,4], 4:[2,3,5], 5:[4], 6:[1]}\n",
    "def find_routes(graph,Sender,Receiver,route=[]):\n",
    "    route=route+[Sender]\n",
    "    if Sender==Receiver:\n",
    "        return[route]\n",
    "    routes=[]\n",
    "    for i in graph[Sender]:\n",
    "        if i not in route:\n",
    "            newroutes=find_routes(graph,i,Receiver,route)\n",
    "            for newroute in newroutes:\n",
    "                routes.append(newroute)\n",
    "    return routes\n",
    "print('All the possible routes from 1 and 3 :''\\n',find_routes(graph,1,3))\n",
    "print('All the possible routes from 4 and 1 :''\\n',find_routes(graph,4,1))\n",
    "print('All the possible routes from 2 and 3 :''\\n',find_routes(graph,2,3))\n",
    "print('All the possible routes from 1 and 5 :''\\n',find_routes(graph,1,5))\n",
    "print('All the possible routes from 3 and 4 :''\\n',find_routes(graph,3,4))\n",
    "print('All the possible routes from 5 and 2 :''\\n',find_routes(graph,5,2))"
   ]
  }
 ],
 "metadata": {
  "kernelspec": {
   "display_name": "Python 3",
   "language": "python",
   "name": "python3"
  },
  "language_info": {
   "codemirror_mode": {
    "name": "ipython",
    "version": 3
   },
   "file_extension": ".py",
   "mimetype": "text/x-python",
   "name": "python",
   "nbconvert_exporter": "python",
   "pygments_lexer": "ipython3",
   "version": "3.7.6"
  }
 },
 "nbformat": 4,
 "nbformat_minor": 4
}
